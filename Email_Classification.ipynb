{
 "cells": [
  {
   "cell_type": "code",
   "execution_count": 53,
   "metadata": {},
   "outputs": [],
   "source": [
    "%matplotlib inline\n",
    "import matplotlib.pyplot as plt\n",
    "import csv\n",
    "from textblob import TextBlob\n",
    "import pandas\n",
    "import sklearn\n",
    "import numpy as np\n",
    "from sklearn.feature_extraction.text import CountVectorizer, TfidfTransformer\n",
    "from sklearn.naive_bayes import MultinomialNB\n",
    "from sklearn.svm import SVC, LinearSVC\n",
    "from sklearn.metrics import classification_report, f1_score, accuracy_score, confusion_matrix\n",
    "from sklearn.pipeline import Pipeline\n",
    "from sklearn.grid_search import GridSearchCV\n",
    "from sklearn.cross_validation import StratifiedKFold, cross_val_score, train_test_split \n",
    "from sklearn.tree import DecisionTreeClassifier \n",
    "from sklearn.learning_curve import learning_curve"
   ]
  },
  {
   "cell_type": "code",
   "execution_count": 184,
   "metadata": {},
   "outputs": [
    {
     "name": "stdout",
     "output_type": "stream",
     "text": [
      "      label                                            message\n",
      "0         1  public announc the new domain name ar final av...\n",
      "1         1  have tax problem do you ow the ir monei if you...\n",
      "2         0  r robert harlei write r scuse me for post in g...\n",
      "3         0  on wed number oct number brian fahrland wrote ...\n",
      "4         0  quot ronan waid sure but soft link would do th...\n",
      "5         0  i notic a low count of razor d spam messag so ...\n",
      "6         1  nigeria electirc power author feder secretaria...\n",
      "7         0  on mon number sep number tom wrote if the set ...\n",
      "8         0  shopper newslett alert live tech help now apri...\n",
      "9         0  httpaddr summari split up from end in num prod...\n",
      "10        0  i think that thi and other articl confus socia...\n",
      "11        0  url httpaddr date number number numbertnumb nu...\n",
      "12        1  free info free the insid stock market report d...\n",
      "13        0  i just updat to the latest cv i had been run a...\n",
      "14        0  on wed jul number number at number number numb...\n",
      "15        0  on wed jul number number at number number numb...\n",
      "16        0  jh thei ar legal requir to do that i got a sim...\n",
      "17        0  url httpaddr date number number numbertnumb nu...\n",
      "18        0  just for your inform i have an apt repositori ...\n",
      "19        1  thi is a multi part messag in mime format next...\n",
      "20        0  url httpaddr date not suppli it will be the on...\n",
      "21        0  url httpaddr date not suppli new scientist is ...\n",
      "22        1  thi messag is in mime format sinc your mail re...\n",
      "23        0  origin messag from r a hettinga free trade and...\n",
      "24        0  origin messag from ahern peter pahernnumb emai...\n",
      "25        1  we offer some of the best bulk e mail price on...\n",
      "26        0  on sat jul number number at number number numb...\n",
      "27        1  thi is a multi part messag in mime format next...\n",
      "28        0  on sun jul number number at number number numb...\n",
      "29        0  url httpaddr date number number numbertnumb nu...\n",
      "...     ...                                                ...\n",
      "4970      0  begin pgp sign messag hash shanumb cauc new vo...\n",
      "4971      0  on thu number sep number bill stoddard wrote g...\n",
      "4972      0  you ar receiv thi email becaus you subscrib to...\n",
      "4973      0  g geeg schuman write g i m sure it s some neur...\n",
      "4974      0  url httpaddr date wed number sep number number...\n",
      "4975      1  thi is a multi part messag in mime format next...\n",
      "4976      1  nbsp royal med nbsp y o u r nbsp nbsp o n l i ...\n",
      "4977      1  x numberd numberdx x numberd numberdxx numberd...\n",
      "4978      0  e eirikur hallgrimsson write e gari s new serv...\n",
      "4979      0  url httpaddr date not suppli some of the word ...\n",
      "4980      1  nbsp number number number nbsp nbsp nbsp nbsp ...\n",
      "4981      0  no problem instal openoffic number and number ...\n",
      "4982      0  i will be out of the offic start number number...\n",
      "4983      1  smart shopper click here for the best rate pai...\n",
      "4984      0  thi is an offici mail from sourceforg net you ...\n",
      "4985      0  on tue aug number number at number number numb...\n",
      "4986      0  url httpaddr date mon number sep number number...\n",
      "4987      0  date fri number aug number number number numbe...\n",
      "4988      0  origin messag from john hall a green onc said ...\n",
      "4989      1  y o u r last chanc for y o u r dollarnumb numb...\n",
      "4990      0  i ve a solari box a window number box both wit...\n",
      "4991      0  satel stevenx wrote when i wa in school thei p...\n",
      "4992      0  forward by william knowl httpaddr mainichi shi...\n",
      "4993      0  i got to see powel talk in march number at the...\n",
      "4994      0  ok i read back that not a typo you mean three ...\n",
      "4995      0  onc upon a time jess wrote have you thought of...\n",
      "4996      0  url httpaddr date not suppli i ve been snow un...\n",
      "4997      1  detail want to refin fill our thi quick form a...\n",
      "4998      0  url httpaddr date number number numbertnumb nu...\n",
      "4999      0  soro in open societi sai he ha a theori that t...\n",
      "\n",
      "[5000 rows x 2 columns]\n"
     ]
    }
   ],
   "source": [
    "messages = pandas.read_csv('spam_train.csv', sep=',', quoting=csv.QUOTE_NONE,\n",
    "                           names=[\"label\", \"message\"])\n",
    "print(messages)"
   ]
  },
  {
   "cell_type": "code",
   "execution_count": 41,
   "metadata": {},
   "outputs": [
    {
     "data": {
      "text/html": [
       "<div>\n",
       "<style>\n",
       "    .dataframe thead tr:only-child th {\n",
       "        text-align: right;\n",
       "    }\n",
       "\n",
       "    .dataframe thead th {\n",
       "        text-align: left;\n",
       "    }\n",
       "\n",
       "    .dataframe tbody tr th {\n",
       "        vertical-align: top;\n",
       "    }\n",
       "</style>\n",
       "<table border=\"1\" class=\"dataframe\">\n",
       "  <thead>\n",
       "    <tr>\n",
       "      <th></th>\n",
       "      <th colspan=\"4\" halign=\"left\">message</th>\n",
       "    </tr>\n",
       "    <tr>\n",
       "      <th></th>\n",
       "      <th>count</th>\n",
       "      <th>unique</th>\n",
       "      <th>top</th>\n",
       "      <th>freq</th>\n",
       "    </tr>\n",
       "    <tr>\n",
       "      <th>label</th>\n",
       "      <th></th>\n",
       "      <th></th>\n",
       "      <th></th>\n",
       "      <th></th>\n",
       "    </tr>\n",
       "  </thead>\n",
       "  <tbody>\n",
       "    <tr>\n",
       "      <th>0</th>\n",
       "      <td>3424</td>\n",
       "      <td>3369</td>\n",
       "      <td>url httpaddr date not suppli httpaddr</td>\n",
       "      <td>9</td>\n",
       "    </tr>\n",
       "    <tr>\n",
       "      <th>1</th>\n",
       "      <td>1558</td>\n",
       "      <td>1334</td>\n",
       "      <td>as seen on nbc cb cnn and even oprah the healt...</td>\n",
       "      <td>8</td>\n",
       "    </tr>\n",
       "  </tbody>\n",
       "</table>\n",
       "</div>"
      ],
      "text/plain": [
       "      message                                                               \n",
       "        count unique                                                top freq\n",
       "label                                                                       \n",
       "0        3424   3369              url httpaddr date not suppli httpaddr    9\n",
       "1        1558   1334  as seen on nbc cb cnn and even oprah the healt...    8"
      ]
     },
     "execution_count": 41,
     "metadata": {},
     "output_type": "execute_result"
    }
   ],
   "source": [
    "messages.groupby('label').describe()"
   ]
  },
  {
   "cell_type": "code",
   "execution_count": 47,
   "metadata": {},
   "outputs": [
    {
     "data": {
      "text/html": [
       "<div>\n",
       "<style>\n",
       "    .dataframe thead tr:only-child th {\n",
       "        text-align: right;\n",
       "    }\n",
       "\n",
       "    .dataframe thead th {\n",
       "        text-align: left;\n",
       "    }\n",
       "\n",
       "    .dataframe tbody tr th {\n",
       "        vertical-align: top;\n",
       "    }\n",
       "</style>\n",
       "<table border=\"1\" class=\"dataframe\">\n",
       "  <thead>\n",
       "    <tr style=\"text-align: right;\">\n",
       "      <th></th>\n",
       "      <th>label</th>\n",
       "      <th>message</th>\n",
       "    </tr>\n",
       "  </thead>\n",
       "  <tbody>\n",
       "    <tr>\n",
       "      <th>0</th>\n",
       "      <td>1</td>\n",
       "      <td>public announc the new domain name ar final av...</td>\n",
       "    </tr>\n",
       "    <tr>\n",
       "      <th>1</th>\n",
       "      <td>1</td>\n",
       "      <td>have tax problem do you ow the ir monei if you...</td>\n",
       "    </tr>\n",
       "    <tr>\n",
       "      <th>2</th>\n",
       "      <td>0</td>\n",
       "      <td>r robert harlei write r scuse me for post in g...</td>\n",
       "    </tr>\n",
       "    <tr>\n",
       "      <th>3</th>\n",
       "      <td>0</td>\n",
       "      <td>on wed number oct number brian fahrland wrote ...</td>\n",
       "    </tr>\n",
       "    <tr>\n",
       "      <th>4</th>\n",
       "      <td>0</td>\n",
       "      <td>quot ronan waid sure but soft link would do th...</td>\n",
       "    </tr>\n",
       "  </tbody>\n",
       "</table>\n",
       "</div>"
      ],
      "text/plain": [
       "   label                                            message\n",
       "0      1  public announc the new domain name ar final av...\n",
       "1      1  have tax problem do you ow the ir monei if you...\n",
       "2      0  r robert harlei write r scuse me for post in g...\n",
       "3      0  on wed number oct number brian fahrland wrote ...\n",
       "4      0  quot ronan waid sure but soft link would do th..."
      ]
     },
     "execution_count": 47,
     "metadata": {},
     "output_type": "execute_result"
    }
   ],
   "source": [
    "messages.head()"
   ]
  },
  {
   "cell_type": "code",
   "execution_count": 48,
   "metadata": {},
   "outputs": [
    {
     "data": {
      "text/plain": [
       "0    public announc the new domain name ar final av...\n",
       "1    have tax problem do you ow the ir monei if you...\n",
       "2    r robert harlei write r scuse me for post in g...\n",
       "3    on wed number oct number brian fahrland wrote ...\n",
       "4    quot ronan waid sure but soft link would do th...\n",
       "Name: message, dtype: object"
      ]
     },
     "execution_count": 48,
     "metadata": {},
     "output_type": "execute_result"
    }
   ],
   "source": [
    "messages.message.head()"
   ]
  },
  {
   "cell_type": "code",
   "execution_count": 61,
   "metadata": {
    "collapsed": true
   },
   "outputs": [],
   "source": [
    "def split_into_tokens(message):  # convert bytes into proper unicode\n",
    "    return TextBlob(message).words"
   ]
  },
  {
   "cell_type": "code",
   "execution_count": 60,
   "metadata": {},
   "outputs": [
    {
     "data": {
      "text/plain": [
       "0    [public, announc, the, new, domain, name, ar, ...\n",
       "1    [have, tax, problem, do, you, ow, the, ir, mon...\n",
       "2    [r, robert, harlei, write, r, scuse, me, for, ...\n",
       "3    [on, wed, number, oct, number, brian, fahrland...\n",
       "4    [quot, ronan, waid, sure, but, soft, link, wou...\n",
       "Name: message, dtype: object"
      ]
     },
     "execution_count": 60,
     "metadata": {},
     "output_type": "execute_result"
    }
   ],
   "source": [
    "messages.message.head().apply(split_into_tokens)"
   ]
  },
  {
   "cell_type": "code",
   "execution_count": 71,
   "metadata": {},
   "outputs": [
    {
     "data": {
      "text/plain": [
       "0    [public, announc, the, new, domain, name, ar, ...\n",
       "1    [have, tax, problem, do, you, ow, the, ir, mon...\n",
       "2    [r, robert, harlei, write, r, scuse, me, for, ...\n",
       "3    [on, wed, number, oct, number, brian, fahrland...\n",
       "4    [quot, ronan, waid, sure, but, soft, link, wou...\n",
       "Name: message, dtype: object"
      ]
     },
     "execution_count": 71,
     "metadata": {},
     "output_type": "execute_result"
    }
   ],
   "source": [
    "def split_into_lemmas(message):\n",
    "    words = TextBlob(message).words\n",
    "    # for each word, take its \"base form\" = lemma \n",
    "    return [word.lemma for word in words]\n",
    "\n",
    "messages.message.head().apply(split_into_lemmas)"
   ]
  },
  {
   "cell_type": "code",
   "execution_count": 96,
   "metadata": {},
   "outputs": [],
   "source": [
    "bow_transformer = CountVectorizer().fit(messages['message'].values.astype('U'))"
   ]
  },
  {
   "cell_type": "code",
   "execution_count": 172,
   "metadata": {},
   "outputs": [
    {
     "name": "stdout",
     "output_type": "stream",
     "text": [
      "on wed number oct number brian fahrland wrote on wed number oct number number number number number edt samuel checker wrote i ve been test razor invok from sendmail procmail and so far it seem pretti copacet last night s spam to the list provid a good test the spam itself as well as sever of the respons were flag as other list member report ar you us spamassassin on the input side i ve just chang my sendmail instal and am look for the proper wai to pass it through there systemwid befor accept it and send it to the user it s kinda problemat to set up procmail script for everi user when the user s home directori ar nf mount and the sourc is on my own machin on which i try new thing and it s the onli machin with the drivespac i ve not us spamassassin on the kiss principl i just have procmail ad an x header and option modifi the subject if razor check come back posit sc thi sf net email is sponsor by thinkgeek welcom to geek heaven httpaddr razor user mail list emailaddr httpaddr\n"
     ]
    }
   ],
   "source": [
    "message4 = messages['message'][3]\n",
    "print(message4)"
   ]
  },
  {
   "cell_type": "code",
   "execution_count": 173,
   "metadata": {},
   "outputs": [
    {
     "name": "stdout",
     "output_type": "stream",
     "text": [
      "  (0, 217)\t1\n",
      "  (0, 343)\t1\n",
      "  (0, 1003)\t1\n",
      "  (0, 1109)\t1\n",
      "  (0, 1145)\t6\n",
      "  (0, 1548)\t2\n",
      "  (0, 1734)\t3\n",
      "  (0, 2364)\t1\n",
      "  (0, 2779)\t1\n",
      "  (0, 2788)\t1\n",
      "  (0, 4112)\t1\n",
      "  (0, 4518)\t1\n",
      "  (0, 5249)\t1\n",
      "  (0, 5332)\t1\n",
      "  (0, 5334)\t1\n",
      "  (0, 6325)\t1\n",
      "  (0, 6768)\t1\n",
      "  (0, 8514)\t1\n",
      "  (0, 9960)\t1\n",
      "  (0, 10447)\t1\n",
      "  (0, 10731)\t1\n",
      "  (0, 10732)\t1\n",
      "  (0, 11418)\t1\n",
      "  (0, 11775)\t1\n",
      "  (0, 11856)\t1\n",
      "  :\t:\n",
      "  (0, 33899)\t1\n",
      "  (0, 34399)\t1\n",
      "  (0, 34841)\t2\n",
      "  (0, 34951)\t12\n",
      "  (0, 34999)\t1\n",
      "  (0, 35026)\t1\n",
      "  (0, 35042)\t1\n",
      "  (0, 35047)\t1\n",
      "  (0, 35148)\t1\n",
      "  (0, 35449)\t5\n",
      "  (0, 35898)\t1\n",
      "  (0, 36849)\t1\n",
      "  (0, 36919)\t2\n",
      "  (0, 36946)\t4\n",
      "  (0, 37193)\t3\n",
      "  (0, 37817)\t1\n",
      "  (0, 38089)\t2\n",
      "  (0, 38131)\t1\n",
      "  (0, 38136)\t1\n",
      "  (0, 38160)\t1\n",
      "  (0, 38224)\t1\n",
      "  (0, 38237)\t1\n",
      "  (0, 38462)\t1\n",
      "  (0, 38727)\t2\n",
      "  (0, 39432)\t1\n",
      "(1, 40328)\n"
     ]
    }
   ],
   "source": [
    "bow4 = bow_transformer.transform([message4])\n",
    "print(bow4)\n",
    "print(bow4.shape)"
   ]
  },
  {
   "cell_type": "code",
   "execution_count": 98,
   "metadata": {},
   "outputs": [
    {
     "name": "stdout",
     "output_type": "stream",
     "text": [
      "and\n",
      "the\n"
     ]
    }
   ],
   "source": [
    "print(bow_transformer.get_feature_names()[1145])\n",
    "print(bow_transformer.get_feature_names()[34951])"
   ]
  },
  {
   "cell_type": "code",
   "execution_count": 162,
   "metadata": {},
   "outputs": [],
   "source": [
    "messages_bow = bow_transformer.transform(messages['message'].values.astype('U'))"
   ]
  },
  {
   "cell_type": "code",
   "execution_count": 101,
   "metadata": {},
   "outputs": [
    {
     "name": "stdout",
     "output_type": "stream",
     "text": [
      "  (0, 39432)\t0.0252486413552\n",
      "  (0, 38727)\t0.0853346565198\n",
      "  (0, 38462)\t0.0281898735832\n",
      "  (0, 38237)\t0.0421188912567\n",
      "  (0, 38224)\t0.0432337819169\n",
      "  (0, 38160)\t0.0532181126874\n",
      "  (0, 38136)\t0.0496218279126\n",
      "  (0, 38131)\t0.0620549219726\n",
      "  (0, 38089)\t0.143503457728\n",
      "  (0, 37817)\t0.04634675693\n",
      "  (0, 37193)\t0.144584290266\n",
      "  (0, 36946)\t0.166292877206\n",
      "  (0, 36919)\t0.0590710502164\n",
      "  (0, 36849)\t0.0384763258511\n",
      "  (0, 35898)\t0.0529153254424\n",
      "  (0, 35449)\t0.098466529274\n",
      "  (0, 35148)\t0.0540428293453\n",
      "  (0, 35047)\t0.065764446055\n",
      "  (0, 35042)\t0.0513263914028\n",
      "  (0, 35026)\t0.0247193240872\n",
      "  (0, 34999)\t0.0383938435155\n",
      "  (0, 34951)\t0.236510526626\n",
      "  (0, 34841)\t0.125917974767\n",
      "  (0, 34399)\t0.145179071813\n",
      "  (0, 33899)\t0.0499173930508\n",
      "  :\t:\n",
      "  (0, 11856)\t0.0680343346968\n",
      "  (0, 11775)\t0.128264998084\n",
      "  (0, 11418)\t0.056647784897\n",
      "  (0, 10732)\t0.0299195459304\n",
      "  (0, 10731)\t0.0370923821227\n",
      "  (0, 10447)\t0.107288665928\n",
      "  (0, 9960)\t0.145179071813\n",
      "  (0, 8514)\t0.0725849666327\n",
      "  (0, 6768)\t0.140218090308\n",
      "  (0, 6325)\t0.0533575206162\n",
      "  (0, 5334)\t0.124416961876\n",
      "  (0, 5332)\t0.0534136008831\n",
      "  (0, 5249)\t0.0495768026471\n",
      "  (0, 4518)\t0.0315236315311\n",
      "  (0, 4112)\t0.0867192358384\n",
      "  (0, 2788)\t0.0543366127175\n",
      "  (0, 2779)\t0.0431251781678\n",
      "  (0, 2364)\t0.0528065259214\n",
      "  (0, 1734)\t0.0969448747843\n",
      "  (0, 1548)\t0.0600265735428\n",
      "  (0, 1145)\t0.12845629976\n",
      "  (0, 1109)\t0.0345152712147\n",
      "  (0, 1003)\t0.0534980647265\n",
      "  (0, 343)\t0.0583933164118\n",
      "  (0, 217)\t0.0683653365455\n"
     ]
    }
   ],
   "source": [
    "tfidf_transformer = TfidfTransformer().fit(messages_bow)\n",
    "tfidf4 = tfidf_transformer.transform(bow4)\n",
    "print(tfidf4)"
   ]
  },
  {
   "cell_type": "code",
   "execution_count": 106,
   "metadata": {},
   "outputs": [
    {
     "name": "stdout",
     "output_type": "stream",
     "text": [
      "1.1429162822\n",
      "1.24150750194\n"
     ]
    }
   ],
   "source": [
    "print(tfidf_transformer.idf_[bow_transformer.vocabulary_['the']])\n",
    "print(tfidf_transformer.idf_[bow_transformer.vocabulary_['and']])"
   ]
  },
  {
   "cell_type": "code",
   "execution_count": 163,
   "metadata": {},
   "outputs": [
    {
     "name": "stdout",
     "output_type": "stream",
     "text": [
      "  (0, 39444)\t0.0744528677176\n",
      "  (0, 39432)\t0.0201864878854\n",
      "  (0, 38352)\t0.0286071653285\n",
      "  (0, 38160)\t0.042548300795\n",
      "  (0, 38136)\t0.0396730427557\n",
      "  (0, 37514)\t0.0475517685342\n",
      "  (0, 36919)\t0.0236138852541\n",
      "  (0, 35462)\t0.0837110922425\n",
      "  (0, 35449)\t0.110214673387\n",
      "  (0, 35026)\t0.0197632945552\n",
      "  (0, 35017)\t0.0392646333902\n",
      "  (0, 34951)\t0.157576692719\n",
      "  (0, 34937)\t0.0204387411387\n",
      "  (0, 32490)\t0.0649844264924\n",
      "  (0, 31341)\t0.0833753256058\n",
      "  (0, 30642)\t0.038155682306\n",
      "  (0, 30237)\t0.0352939161194\n",
      "  (0, 30224)\t0.0581694409307\n",
      "  (0, 30096)\t0.0803591592265\n",
      "  (0, 30093)\t0.171325080103\n",
      "  (0, 29914)\t0.0516893847257\n",
      "  (0, 29068)\t0.106962525184\n",
      "  (0, 28799)\t0.0592443159723\n",
      "  (0, 28624)\t0.0932522047429\n",
      "  (0, 26445)\t0.0698054648899\n",
      "  :\t:\n",
      "  (4999, 12816)\t0.158724242709\n",
      "  (4999, 12723)\t0.0784983463311\n",
      "  (4999, 12280)\t0.0958315586887\n",
      "  (4999, 10859)\t0.0568006012025\n",
      "  (4999, 8880)\t0.0366191922756\n",
      "  (4999, 8671)\t0.110013767295\n",
      "  (4999, 8025)\t0.104394994271\n",
      "  (4999, 7563)\t0.0849288201997\n",
      "  (4999, 7376)\t0.0994410800239\n",
      "  (4999, 6365)\t0.0846339400429\n",
      "  (4999, 6214)\t0.158724242709\n",
      "  (4999, 4802)\t0.146256405634\n",
      "  (4999, 4701)\t0.0333397221586\n",
      "  (4999, 4419)\t0.232858763553\n",
      "  (4999, 3897)\t0.220027534589\n",
      "  (4999, 2839)\t0.067661894312\n",
      "  (4999, 2713)\t0.0281904543022\n",
      "  (4999, 2446)\t0.09754593022\n",
      "  (4999, 2125)\t0.167001015447\n",
      "  (4999, 1734)\t0.168532806044\n",
      "  (4999, 1548)\t0.0313057711371\n",
      "  (4999, 1145)\t0.0446627028004\n",
      "  (4999, 922)\t0.0636937424498\n",
      "  (4999, 555)\t0.0552796432199\n",
      "  (4999, 312)\t0.0740125726702\n"
     ]
    }
   ],
   "source": [
    "messages_tfidf = tfidf_transformer.transform(messages_bow)\n",
    "print(messages_tfidf)"
   ]
  },
  {
   "cell_type": "code",
   "execution_count": 134,
   "metadata": {},
   "outputs": [
    {
     "name": "stdout",
     "output_type": "stream",
     "text": [
      "CPU times: user 7.9 ms, sys: 4.23 ms, total: 12.1 ms\n",
      "Wall time: 10.4 ms\n"
     ]
    }
   ],
   "source": [
    "%time spam_detector = MultinomialNB().fit(messages_tfidf, messages['label'])"
   ]
  },
  {
   "cell_type": "code",
   "execution_count": 135,
   "metadata": {},
   "outputs": [
    {
     "name": "stdout",
     "output_type": "stream",
     "text": [
      "predicted: 0\n",
      "expected: 0\n"
     ]
    }
   ],
   "source": [
    "print('predicted:', spam_detector.predict(tfidf4)[0])\n",
    "print('expected:', messages.label[3])"
   ]
  },
  {
   "cell_type": "code",
   "execution_count": 136,
   "metadata": {},
   "outputs": [
    {
     "name": "stdout",
     "output_type": "stream",
     "text": [
      "[1 1 0 ..., 1 0 0]\n"
     ]
    }
   ],
   "source": [
    "all_predictions = spam_detector.predict(messages_tfidf)\n",
    "print(all_predictions)"
   ]
  },
  {
   "cell_type": "code",
   "execution_count": 137,
   "metadata": {},
   "outputs": [
    {
     "name": "stdout",
     "output_type": "stream",
     "text": [
      "accuracy 0.9166\n",
      "confusion matrix\n",
      " [[3419   11]\n",
      " [ 406 1164]]\n",
      "(row=expected, col=predicted)\n"
     ]
    }
   ],
   "source": [
    "print('accuracy', accuracy_score(messages['label'], all_predictions))\n",
    "print('confusion matrix\\n', confusion_matrix(messages['label'], all_predictions))\n",
    "print('(row=expected, col=predicted)')"
   ]
  },
  {
   "cell_type": "code",
   "execution_count": 146,
   "metadata": {},
   "outputs": [
    {
     "name": "stdout",
     "output_type": "stream",
     "text": [
      "4000 1000 5000\n"
     ]
    }
   ],
   "source": [
    "msg_train, msg_test, label_train, label_test = train_test_split(messages['message'], messages['label'], test_size=0.2)\n",
    "\n",
    "print(len(msg_train), len(msg_test), len(msg_train) + len(msg_test))"
   ]
  },
  {
   "cell_type": "code",
   "execution_count": 180,
   "metadata": {
    "collapsed": true
   },
   "outputs": [],
   "source": [
    "pipeline = Pipeline([\n",
    "    ('bow', CountVectorizer(min_df=30)),  # strings to token integer counts remove words that appear in less than 30 emails\n",
    "    ('tfidf', TfidfTransformer()),  # integer counts to weighted TF-IDF scores\n",
    "    ('classifier', MultinomialNB()),  # train on TF-IDF vectors w/ Naive Bayes classifier\n",
    "])"
   ]
  },
  {
   "cell_type": "code",
   "execution_count": 181,
   "metadata": {},
   "outputs": [
    {
     "name": "stdout",
     "output_type": "stream",
     "text": [
      "[ 0.96508728  0.96009975  0.9625      0.96        0.9675      0.9675      0.96\n",
      "  0.975       0.97493734  0.97493734]\n"
     ]
    }
   ],
   "source": [
    "scores = cross_val_score(pipeline,  # steps to convert raw messages into models\n",
    "                         msg_train.values.astype('U'),  # training data\n",
    "                         label_train,  # training labels\n",
    "                         cv=10,  # split data randomly into 10 parts: 9 for training, 1 for scoring\n",
    "                         scoring='accuracy',  # which scoring metric?\n",
    "                         n_jobs=-1,  # -1 = use all cores = faster\n",
    "                         )\n",
    "print(scores)"
   ]
  },
  {
   "cell_type": "code",
   "execution_count": 182,
   "metadata": {},
   "outputs": [
    {
     "name": "stdout",
     "output_type": "stream",
     "text": [
      "0.966756171914 0.00599525020503\n"
     ]
    }
   ],
   "source": [
    "print(scores.mean(), scores.std())\n"
   ]
  }
 ],
 "metadata": {
  "kernelspec": {
   "display_name": "Python 3",
   "language": "python",
   "name": "python3"
  },
  "language_info": {
   "codemirror_mode": {
    "name": "ipython",
    "version": 3
   },
   "file_extension": ".py",
   "mimetype": "text/x-python",
   "name": "python",
   "nbconvert_exporter": "python",
   "pygments_lexer": "ipython3",
   "version": "3.6.3"
  }
 },
 "nbformat": 4,
 "nbformat_minor": 2
}
